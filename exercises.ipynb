{
 "cells": [
  {
   "cell_type": "code",
   "execution_count": 2,
   "id": "a7a7256a-d428-4a40-8e19-eb436b7ec41c",
   "metadata": {},
   "outputs": [],
   "source": [
    "import numpy as np"
   ]
  },
  {
   "cell_type": "code",
   "execution_count": null,
   "id": "fd5601fc-aa27-4539-9876-f9f13e1d577d",
   "metadata": {},
   "outputs": [],
   "source": [
    "#Valid Sudoku\n",
    "\n",
    "s = np.array([\n",
    "    [5, 3, 4, 6, 7, 8, 9, 1, 2],\n",
    "    [6, 7, 2, 1, 9, 5, 3, 4, 8],\n",
    "    [1, 9, 8, 3, 4, 2, 5, 6, 7],\n",
    "    \n",
    "    [8, 5, 9, 7, 6, 1, 4, 2, 3],\n",
    "    [4, 2, 6, 8, 5, 3, 7, 9, 1],\n",
    "    [7, 1, 3, 9, 2, 4, 8, 5, 6],\n",
    "    \n",
    "    [9, 6, 1, 5, 3, 7, 2, 8, 4],\n",
    "    [2, 8, 7, 4, 1, 9, 6, 3, 5],\n",
    "    [3, 4, 5, 2, 8, 6, 1, 7, 9]\n",
    "])\n",
    "\n",
    "#General Questions"
   ]
  },
  {
   "cell_type": "code",
   "execution_count": 5,
   "id": "4c7c13b0-b829-46b5-8495-d76dcc519495",
   "metadata": {},
   "outputs": [
    {
     "name": "stdout",
     "output_type": "stream",
     "text": [
      "for rows it is valid\n",
      "for rows it is valid\n",
      "for rows it is valid\n",
      "for rows it is valid\n",
      "for rows it is valid\n",
      "for rows it is valid\n",
      "for rows it is valid\n",
      "for rows it is valid\n",
      "for rows it is valid\n"
     ]
    }
   ],
   "source": [
    "b = np.sum(s,axis=1)\n",
    "for i in b :\n",
    "    if i != 45:\n",
    "        print(\"sudoku is not valid\")\n",
    "        break\n",
    "    else:\n",
    "        print(\"for rows it is valid\")"
   ]
  },
  {
   "cell_type": "code",
   "execution_count": 6,
   "id": "25187e8e-01cf-45bb-8e97-263ac0ccebd6",
   "metadata": {},
   "outputs": [
    {
     "name": "stdout",
     "output_type": "stream",
     "text": [
      "for columns it is valid\n",
      "for columns it is valid\n",
      "for columns it is valid\n",
      "for columns it is valid\n",
      "for columns it is valid\n",
      "for columns it is valid\n",
      "for columns it is valid\n",
      "for columns it is valid\n",
      "for columns it is valid\n"
     ]
    }
   ],
   "source": [
    "c = np.sum(s,axis=1)\n",
    "for i in b :\n",
    "    if i != 45:\n",
    "        print(\"sudoku is not valid\")\n",
    "        break\n",
    "    else:\n",
    "        print(\"for columns it is valid\")"
   ]
  },
  {
   "cell_type": "code",
   "execution_count": 14,
   "id": "48bdc0df-f4f1-4992-9295-6b0e3492d1f0",
   "metadata": {},
   "outputs": [
    {
     "name": "stdout",
     "output_type": "stream",
     "text": [
      "45\n",
      "45\n",
      "45\n",
      "45\n",
      "45\n",
      "45\n",
      "45\n",
      "45\n",
      "45\n"
     ]
    }
   ],
   "source": [
    "for i in range(0,9,3):\n",
    "    for j in range(0,9,3):\n",
    "        n=(s[i:i+3,j:j+3])\n",
    "        print(n.sum())"
   ]
  },
  {
   "cell_type": "code",
   "execution_count": null,
   "id": "c847c861-94e6-4c44-a100-f3fe9f2997f7",
   "metadata": {},
   "outputs": [],
   "source": []
  },
  {
   "cell_type": "code",
   "execution_count": null,
   "id": "03a84b4e-ff5a-43e8-b9d8-963c41c514f2",
   "metadata": {},
   "outputs": [],
   "source": []
  },
  {
   "cell_type": "code",
   "execution_count": 15,
   "id": "b3654f31-e222-4e94-bea8-bf72ea27cb19",
   "metadata": {},
   "outputs": [],
   "source": [
    "#General Question \n"
   ]
  },
  {
   "cell_type": "code",
   "execution_count": 16,
   "id": "5a65039f-5850-4cd9-8c2c-8e1728650cc9",
   "metadata": {},
   "outputs": [],
   "source": [
    "import numpy as np"
   ]
  },
  {
   "cell_type": "code",
   "execution_count": 31,
   "id": "5f8e7e7e-9f43-4319-8bdd-0ae7449f0700",
   "metadata": {},
   "outputs": [],
   "source": [
    "# Columns: [Age, Math Marks, Science Marks]\n",
    "data = np.array([\n",
    "    [18, 85, 78],   # Student 1\n",
    "    [19, 92, 88],   # Student 2\n",
    "    [17, 76, 95],   # Student 3\n",
    "    [18, 65, 70],   # Student 4\n",
    "    [20, 90, 85]    # Student 5\n",
    "])"
   ]
  },
  {
   "cell_type": "code",
   "execution_count": 18,
   "id": "d120c5c5-7126-4508-a010-d2e5c34bbef7",
   "metadata": {},
   "outputs": [
    {
     "data": {
      "text/plain": [
       "(5, 3)"
      ]
     },
     "execution_count": 18,
     "metadata": {},
     "output_type": "execute_result"
    }
   ],
   "source": [
    "# get the shape of matrix \n",
    "data.shape"
   ]
  },
  {
   "cell_type": "code",
   "execution_count": 20,
   "id": "2465b3cd-6437-46cb-9083-4bb3bf3908a4",
   "metadata": {},
   "outputs": [
    {
     "data": {
      "text/plain": [
       "np.float64(18.4)"
      ]
     },
     "execution_count": 20,
     "metadata": {},
     "output_type": "execute_result"
    }
   ],
   "source": [
    "# avg age of student\n",
    "np.mean(data[:,0])"
   ]
  },
  {
   "cell_type": "code",
   "execution_count": 21,
   "id": "729b98bc-90de-463c-9224-e1a85b0b09d4",
   "metadata": {},
   "outputs": [
    {
     "data": {
      "text/plain": [
       "array([85, 92, 76, 65, 90])"
      ]
     },
     "execution_count": 21,
     "metadata": {},
     "output_type": "execute_result"
    }
   ],
   "source": [
    "# Extract Math Marks of all the students\n",
    "data[:,1]"
   ]
  },
  {
   "cell_type": "code",
   "execution_count": 22,
   "id": "0416bb58-e185-4245-a008-870548a4a08c",
   "metadata": {},
   "outputs": [
    {
     "data": {
      "text/plain": [
       "np.int64(95)"
      ]
     },
     "execution_count": 22,
     "metadata": {},
     "output_type": "execute_result"
    }
   ],
   "source": [
    "# highest science marks\n",
    "np.max(data[:,2])"
   ]
  },
  {
   "cell_type": "code",
   "execution_count": 23,
   "id": "9276d07f-de90-4746-b4a4-934a07106a78",
   "metadata": {},
   "outputs": [
    {
     "data": {
      "text/plain": [
       "array([[19, 92, 88]])"
      ]
     },
     "execution_count": 23,
     "metadata": {},
     "output_type": "execute_result"
    }
   ],
   "source": [
    "# details of the student who scored more than 90 in math\n",
    "data[data[:,1] > 90]"
   ]
  },
  {
   "cell_type": "code",
   "execution_count": 32,
   "id": "9b30bbf9-ef74-493b-ad42-3c44edcd47fd",
   "metadata": {},
   "outputs": [
    {
     "data": {
      "text/plain": [
       "array([[18, 85, 78],\n",
       "       [19, 92, 88],\n",
       "       [17, 76, 95],\n",
       "       [18, 65, 70],\n",
       "       [20, 90, 85]])"
      ]
     },
     "execution_count": 32,
     "metadata": {},
     "output_type": "execute_result"
    }
   ],
   "source": [
    "data"
   ]
  },
  {
   "cell_type": "code",
   "execution_count": 33,
   "id": "4948b34e-1c69-4598-8804-a8a02f893448",
   "metadata": {},
   "outputs": [
    {
     "data": {
      "text/plain": [
       "array([[18, 90, 78],\n",
       "       [19, 97, 88],\n",
       "       [17, 81, 95],\n",
       "       [18, 70, 70],\n",
       "       [20, 95, 85]])"
      ]
     },
     "execution_count": 33,
     "metadata": {},
     "output_type": "execute_result"
    }
   ],
   "source": [
    "# Increased math marks of all the students by 5\n",
    "data[:,1] += 5\n",
    "data"
   ]
  },
  {
   "cell_type": "code",
   "execution_count": 35,
   "id": "0f60daee-0ebd-4a04-8bec-f53263039687",
   "metadata": {},
   "outputs": [
    {
     "data": {
      "text/plain": [
       "3"
      ]
     },
     "execution_count": 35,
     "metadata": {},
     "output_type": "execute_result"
    }
   ],
   "source": [
    "# How many students are younger than 19\n",
    "len(data[data[:,0] < 19])"
   ]
  },
  {
   "cell_type": "code",
   "execution_count": 36,
   "id": "ee3c2939-446e-4ed1-b1e7-de36ac06b926",
   "metadata": {},
   "outputs": [
    {
     "data": {
      "text/plain": [
       "array([86.6, 83.2])"
      ]
     },
     "execution_count": 36,
     "metadata": {},
     "output_type": "execute_result"
    }
   ],
   "source": [
    "# calculate avg marks in each subject \n",
    "np.mean(data[:,1:],axis=0)"
   ]
  },
  {
   "cell_type": "code",
   "execution_count": 37,
   "id": "eaaccf38-d3b6-4573-b0cf-e3bce4cf4268",
   "metadata": {},
   "outputs": [
    {
     "data": {
      "text/plain": [
       "array([[19, 97, 88],\n",
       "       [17, 81, 95],\n",
       "       [20, 95, 85]])"
      ]
     },
     "execution_count": 37,
     "metadata": {},
     "output_type": "execute_result"
    }
   ],
   "source": [
    "#Get data of students who scored at least 80 in both subjects.\n",
    "data[(data[:,1] >= 80) & (data[:,2] >= 80)]"
   ]
  },
  {
   "cell_type": "code",
   "execution_count": 38,
   "id": "30240b95-ea49-49b1-87cc-939ec7e2e8c3",
   "metadata": {},
   "outputs": [
    {
     "data": {
      "text/plain": [
       "array([[18, 90, 78],\n",
       "       [19, 97, 88],\n",
       "       [17, 81, 95],\n",
       "       [18, 70,  0],\n",
       "       [20, 95, 85]])"
      ]
     },
     "execution_count": 38,
     "metadata": {},
     "output_type": "execute_result"
    }
   ],
   "source": [
    "#Replace all Science marks < 75 with 0.\n",
    "data[:,2] [data[:,2] < 75]=0\n",
    "data"
   ]
  },
  {
   "cell_type": "code",
   "execution_count": null,
   "id": "2d6b8071-a360-4be2-bd55-ad2c46d885bd",
   "metadata": {},
   "outputs": [],
   "source": []
  }
 ],
 "metadata": {
  "kernelspec": {
   "display_name": "Python 3 (ipykernel)",
   "language": "python",
   "name": "python3"
  },
  "language_info": {
   "codemirror_mode": {
    "name": "ipython",
    "version": 3
   },
   "file_extension": ".py",
   "mimetype": "text/x-python",
   "name": "python",
   "nbconvert_exporter": "python",
   "pygments_lexer": "ipython3",
   "version": "3.13.5"
  }
 },
 "nbformat": 4,
 "nbformat_minor": 5
}
